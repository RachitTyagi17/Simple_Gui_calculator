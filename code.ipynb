{
 "cells": [
  {
   "cell_type": "code",
   "execution_count": null,
   "id": "8fb1d6f4-1a24-4c44-864a-bf348f80fa8e",
   "metadata": {},
   "outputs": [],
   "source": [
    "import tkinter as tk\n",
    "\n",
    "# Function to handle button clicks\n",
    "def click(event):\n",
    "    text = event.widget.cget(\"text\")\n",
    "    if text == \"=\":\n",
    "        try:\n",
    "            result = eval(entry.get())\n",
    "            entry_label.config(text=\"Result:\")\n",
    "            entry.delete(0, tk.END)\n",
    "            entry.insert(tk.END, result)\n",
    "        except:\n",
    "            entry_label.config(text=\"Error:\")\n",
    "            entry.delete(0, tk.END)\n",
    "            entry.insert(tk.END, \"Invalid Input\")\n",
    "    elif text == \"C\":\n",
    "        entry_label.config(text=\"Input:\")\n",
    "        entry.delete(0, tk.END)\n",
    "    else:\n",
    "        entry_label.config(text=\"Input:\")\n",
    "        entry.insert(tk.END, text)\n",
    "\n",
    "root = tk.Tk()\n",
    "root.title(\"Calculator\")\n",
    "\n",
    "# Label to indicate the current mode (Input or Result)\n",
    "entry_label = tk.Label(root, text=\"Input:\", font=\"Helvetica 15\")\n",
    "entry_label.grid(row=0, column=0, columnspan=4)\n",
    "\n",
    "# Entry field for input and output\n",
    "entry = tk.Entry(root, font=\"Helvetica 20\", borderwidth=5, relief=tk.RIDGE)\n",
    "entry.grid(row=1, column=0, columnspan=4, ipadx=5, ipady=5)\n",
    "\n",
    "# Buttons for the calculator\n",
    "buttons = [\n",
    "    [\"7\", \"8\", \"9\", \"/\"],\n",
    "    [\"4\", \"5\", \"6\", \"*\"],\n",
    "    [\"1\", \"2\", \"3\", \"-\"],\n",
    "    [\"C\", \"0\", \"=\", \"+\"]\n",
    "]\n",
    "\n",
    "for i, row in enumerate(buttons):\n",
    "    for j, text in enumerate(row):\n",
    "        btn = tk.Button(root, text=text, font=\"Helvetica 15\", width=5, height=2)\n",
    "        btn.grid(row=i + 2, column=j, padx=5, pady=5)\n",
    "        btn.bind(\"<Button-1>\", click)\n",
    "\n",
    "root.mainloop()"
   ]
  },
  {
   "cell_type": "code",
   "execution_count": null,
   "id": "8ebd7ef5-8b8d-4026-9ba0-701a1a2a12df",
   "metadata": {},
   "outputs": [],
   "source": []
  }
 ],
 "metadata": {
  "kernelspec": {
   "display_name": "Python 3 (ipykernel)",
   "language": "python",
   "name": "python3"
  },
  "language_info": {
   "codemirror_mode": {
    "name": "ipython",
    "version": 3
   },
   "file_extension": ".py",
   "mimetype": "text/x-python",
   "name": "python",
   "nbconvert_exporter": "python",
   "pygments_lexer": "ipython3",
   "version": "3.12.4"
  }
 },
 "nbformat": 4,
 "nbformat_minor": 5
}
